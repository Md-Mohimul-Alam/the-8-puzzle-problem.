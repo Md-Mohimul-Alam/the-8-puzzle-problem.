{
  "nbformat": 4,
  "nbformat_minor": 0,
  "metadata": {
    "colab": {
      "provenance": [],
      "authorship_tag": "ABX9TyOBwXyZzDBEj+Ls+Qw9wTO5",
      "include_colab_link": true
    },
    "kernelspec": {
      "name": "python3",
      "display_name": "Python 3"
    },
    "language_info": {
      "name": "python"
    }
  },
  "cells": [
    {
      "cell_type": "markdown",
      "metadata": {
        "id": "view-in-github",
        "colab_type": "text"
      },
      "source": [
        "<a href=\"https://colab.research.google.com/github/Md-Mohimul-Alam/the-8-puzzle-problem./blob/main/1911182_PA1.ipynb\" target=\"_parent\"><img src=\"https://colab.research.google.com/assets/colab-badge.svg\" alt=\"Open In Colab\"/></a>"
      ]
    },
    {
      "cell_type": "code",
      "source": [
        "def __init__(self, state, depth, parent, move):\n",
        "        self.state = state\n",
        "        self.depth = depth\n",
        "        self.parent = parent\n",
        "        self.move = move"
      ],
      "metadata": {
        "id": "ITa6MiI-Bbs2"
      },
      "execution_count": 30,
      "outputs": []
    },
    {
      "cell_type": "code",
      "source": [
        "def depth_limited_search(initial_state, goal_state, depth_limit):\n",
        "    frontier = [Node(initial_state, 0, None, \"\")]\n",
        "\n",
        "    while frontier:\n",
        "        node = frontier.pop()\n",
        "\n",
        "        if node.state == goal_state and node.depth == depth_limit:\n",
        "            path = []\n",
        "            while node.parent:\n",
        "                path.append(node.move)\n",
        "                node = node.parent\n",
        "            path.reverse()\n",
        "            return f\"PATH FOUND\\nMoves: {' -> '.join(path)}\"\n",
        "\n",
        "        if node.depth < depth_limit:\n",
        "            for successor in generate_successors(node.state):\n",
        "                successor.depth = node.depth + 1\n",
        "                successor.parent = node\n",
        "                frontier.append(successor)\n",
        "\n",
        "    return None"
      ],
      "metadata": {
        "id": "WPLf8gL2G32L"
      },
      "execution_count": 31,
      "outputs": []
    },
    {
      "cell_type": "code",
      "source": [
        "def generate_successors(state):\n",
        "    successors = []\n",
        "    blank_index = state.index(-1)\n",
        "    moves = [(0, -1), (-1, 0), (0, 1), (1, 0)]  # UP, LEFT, DOWN, RIGHT\n",
        "\n",
        "    for dx, dy in moves:\n",
        "        x, y = divmod(blank_index, 3)\n",
        "        new_x, new_y = x + dx, y + dy\n",
        "\n",
        "        if 0 <= new_x < 3 and 0 <= new_y < 3:\n",
        "            new_state = state[:]\n",
        "            new_blank_index = new_x * 3 + new_y\n",
        "\n",
        "            new_state[blank_index] = new_state[new_blank_index]\n",
        "            new_state[new_blank_index] = -1\n",
        "\n",
        "            move = \"UP\" if dx == -1 else \"LEFT\" if dy == -1 else \"DOWN\" if dx == 1 else \"RIGHT\"\n",
        "            successors.append(Node(new_state, 0, None, move))\n",
        "\n",
        "    return successors"
      ],
      "metadata": {
        "id": "yeFOdJFGGwf0"
      },
      "execution_count": 32,
      "outputs": []
    },
    {
      "cell_type": "code",
      "source": [
        "\n",
        "def ids(initial_state, goal_state, max_depth=5):\n",
        "    for depth_limit in range(max_depth + 1):\n",
        "        result = depth_limited_search(initial_state, goal_state, depth_limit)\n",
        "        if result:\n",
        "            return result\n",
        "    return \"NO PATH FOUND\""
      ],
      "metadata": {
        "id": "Sez7SHTbGyKR"
      },
      "execution_count": 33,
      "outputs": []
    },
    {
      "cell_type": "code",
      "source": [
        "# Input: initial state and goal state\n",
        "initial_state = [1, 4, 2, -1, 5, 3, 6, 7, 8]\n",
        "goal_state = [1, 2, -1, 5, 4, 3, 6, 7, 8]\n",
        "\n",
        "# Solve the 8-puzzle problem\n",
        "result = ids(initial_state, goal_state)\n",
        "print(result)"
      ],
      "metadata": {
        "colab": {
          "base_uri": "https://localhost:8080/"
        },
        "id": "Ae_fXdOCGpHp",
        "outputId": "9c1f398a-0ad6-45a3-fce3-977a21940116"
      },
      "execution_count": 34,
      "outputs": [
        {
          "output_type": "stream",
          "name": "stdout",
          "text": [
            "PATH FOUND\n",
            "Moves: RIGHT -> UP -> RIGHT\n"
          ]
        }
      ]
    }
  ]
}